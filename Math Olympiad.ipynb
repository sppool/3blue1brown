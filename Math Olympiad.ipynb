{
 "cells": [
  {
   "cell_type": "markdown",
   "metadata": {},
   "source": [
    "### [This problem seems hard, then it doesn't, but it really is](https://www.youtube.com/watch?v=M64HUIJFTZM)"
   ]
  },
  {
   "cell_type": "code",
   "execution_count": 2,
   "metadata": {},
   "outputs": [],
   "source": [
    "import numpy as np\n",
    "import pandas as pd\n",
    "import matplotlib.pyplot as plt"
   ]
  },
  {
   "cell_type": "code",
   "execution_count": 3,
   "metadata": {},
   "outputs": [],
   "source": [
    "def pl(p, deg): # 單點和線\n",
    "    rad = np.deg2rad(deg)\n",
    "    v = np.exp(1j * rad)\n",
    "    ar = np.array([p + (2 * v), p - (2 * v)])\n",
    "    plt.scatter(p.real, p.imag, s=200, marker='o', c='g')\n",
    "    plt.plot(ar.real, ar.imag)\n",
    "    plt.savefig(f'p{fig_n}.png')\n",
    "\n",
    "def pp(p1, p2): # 兩點的線\n",
    "    d = p1 - p2\n",
    "    rad = np.angle(p1 - p2)\n",
    "    v = np.exp(1j * rad)\n",
    "    ar = np.array([p1 + (2 * v), p1 - (2 * v)])\n",
    "    plt.scatter(p1.real, p1.imag, s=500, marker='o', c='r', alpha=0.75)\n",
    "    plt.plot(ar.real, ar.imag)\n",
    "    plt.savefig(f'p{fig_n}.png')\n",
    "\n",
    "def fig_(p): # 畫圖設定和點位\n",
    "    plt.figure(figsize=(8, 8))\n",
    "    plt.axes([0, 0, 1, 1])\n",
    "    plt.plot(p.real, p.imag, ls='', marker='o', ms=6)\n",
    "    for i in range(n):\n",
    "        plt.text(p[i].real+0.01, p[i].imag, str(count[i]))\n",
    "    plt.axis([-0.1, 1.1, -0.1, 1.1])\n",
    "    # plt.box()\n",
    "    plt.xticks([])\n",
    "    plt.yticks([])"
   ]
  },
  {
   "cell_type": "code",
   "execution_count": 4,
   "metadata": {},
   "outputs": [],
   "source": [
    "n = 12 # 點數\n",
    "x = np.random.uniform(size=n)\n",
    "y = np.random.uniform(size=n)\n",
    "p = x + (y * 1j) # 點資料\n",
    "p2p = np.zeros((n, n-1), dtype=np.complex128) # 點到其他點的向量 shape(n, n-1)\n",
    "for i in range(n):\n",
    "    arr = p[i] - p\n",
    "    arr = np.hstack((arr[0:i], arr[i+1:]))\n",
    "    p2p[i] = arr\n",
    "angle = np.angle(p2p, deg=True) % 360  # 點到其他點的角度"
   ]
  },
  {
   "cell_type": "code",
   "execution_count": 5,
   "metadata": {},
   "outputs": [
    {
     "data": {
      "text/plain": [
       "(-0.04069027418509424,\n",
       " 1.020741296131866,\n",
       " -8.528231063822944e-05,\n",
       " 0.9675664381708429)"
      ]
     },
     "execution_count": 5,
     "metadata": {},
     "output_type": "execute_result"
    },
    {
     "data": {
      "image/png": "[encoded data removed]",
      "text/plain": [
       "<Figure size 576x576 with 1 Axes>"
      ]
     },
     "metadata": {
      "needs_background": "light"
     },
     "output_type": "display_data"
    }
   ],
   "source": [
    "plt.figure(figsize=(8, 8))\n",
    "plt.plot(p.real, p.imag, ls='', marker='o', ms=6)\n",
    "for i in range(n):\n",
    "    plt.text(p[i].real+0.01, p[i].imag, i)\n",
    "plt.axis('equal')"
   ]
  },
  {
   "cell_type": "code",
   "execution_count": 5,
   "metadata": {},
   "outputs": [],
   "source": [
    "move_deg = 1 # 移動角度\n",
    "i = 5 # 起始點位index\n",
    "count =np.zeros(n, dtype=np.int) # 點位記數\n",
    "fig_n = 0 # 製圖編號"
   ]
  },
  {
   "cell_type": "code",
   "execution_count": null,
   "metadata": {
    "scrolled": false
   },
   "outputs": [],
   "source": [
    "'''\n",
    "一次移動 move_deg, 當在移動一次角度會接觸到點位, 畫一個兩點轉換的連線, 繼續移動！\n",
    "'''\n",
    "deg = 0 # 起始角度\n",
    "while deg <= 720\n",
    "    ang_d = ((angle[i] - deg) % 180) # 目前各點和旋轉角度的差值,考慮兩邊所以180\n",
    "    if ang_d.min() < move_deg:\n",
    "        j = ang_d.argmin() # index\n",
    "        j = j if i > j else j + 1 # 小於移動角度的點位index\n",
    "        count[j] += 1\n",
    "        fig_(p)\n",
    "        pp(p[j], p[i])\n",
    "        i = j\n",
    "        deg += (ang_d.min() + 1e-6)# 刻意越過一點點\n",
    "    else:\n",
    "        fig_(p)\n",
    "        pl(p[i], deg)\n",
    "        deg += move_deg\n",
    "    fig_n += 1"
   ]
  },
  {
   "cell_type": "code",
   "execution_count": 8,
   "metadata": {},
   "outputs": [
    {
     "data": {
      "text/plain": [
       "0"
      ]
     },
     "execution_count": 8,
     "metadata": {},
     "output_type": "execute_result"
    }
   ],
   "source": [
    "import os\n",
    "lst = os.listdir()\n",
    "with open('image_list.txt', 'w') as file:\n",
    "    for i in range(1000):\n",
    "        word = f'p{i}.png'\n",
    "        if word in lst:\n",
    "            file.write(word+'\\n')\n",
    "os.system('convert @image_list.txt app.gif') # On windows convert is 'magick'"
   ]
  },
  {
   "cell_type": "markdown",
   "metadata": {},
   "source": [
    "![](ap4.png)"
   ]
  },
  {
   "cell_type": "code",
   "execution_count": null,
   "metadata": {},
   "outputs": [],
   "source": []
  },
  {
   "cell_type": "code",
   "execution_count": null,
   "metadata": {},
   "outputs": [],
   "source": []
  },
  {
   "cell_type": "code",
   "execution_count": null,
   "metadata": {},
   "outputs": [],
   "source": []
  },
  {
   "cell_type": "code",
   "execution_count": null,
   "metadata": {},
   "outputs": [],
   "source": []
  },
  {
   "cell_type": "code",
   "execution_count": null,
   "metadata": {},
   "outputs": [],
   "source": []
  },
  {
   "cell_type": "code",
   "execution_count": null,
   "metadata": {},
   "outputs": [],
   "source": []
  },
  {
   "cell_type": "code",
   "execution_count": null,
   "metadata": {},
   "outputs": [],
   "source": []
  },
  {
   "cell_type": "code",
   "execution_count": 7,
   "metadata": {},
   "outputs": [
    {
     "data": {
      "text/plain": [
       "([], <a list of 0 Text yticklabel objects>)"
      ]
     },
     "execution_count": 7,
     "metadata": {},
     "output_type": "execute_result"
    },
    {
     "data": {
      "image/png": "[encoded data removed]",
      "text/plain": [
       "<Figure size 720x720 with 1 Axes>"
      ]
     },
     "metadata": {},
     "output_type": "display_data"
    }
   ],
   "source": [
    "import matplotlib\n",
    "colors = matplotlib.cm.gist_rainbow(np.linspace(0, 1, 256))\n",
    "fig = plt.figure(figsize=(10, 10))\n",
    "ax = plt.axes([0, 0, 1, 1])\n",
    "for i in range(256):\n",
    "    ax.plot([0, 10], [i, i], c=colors[i], lw=3)\n",
    "# ax.axis([-0.2, 1.2, -0.2, 1.2])\n",
    "plt.box()\n",
    "plt.xticks([])\n",
    "plt.yticks([])"
   ]
  }
 ],
 "metadata": {
  "kernelspec": {
   "display_name": "Python 3",
   "language": "python",
   "name": "python3"
  },
  "language_info": {
   "codemirror_mode": {
    "name": "ipython",
    "version": 3
   },
   "file_extension": ".py",
   "mimetype": "text/x-python",
   "name": "python",
   "nbconvert_exporter": "python",
   "pygments_lexer": "ipython3",
   "version": "3.7.3"
  }
 },
 "nbformat": 4,
 "nbformat_minor": 2
}
